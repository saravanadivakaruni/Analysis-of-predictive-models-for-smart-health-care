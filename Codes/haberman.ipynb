{
 "cells": [
  {
   "cell_type": "markdown",
   "id": "1fc084a5",
   "metadata": {},
   "source": [
    "# haberman"
   ]
  },
  {
   "cell_type": "code",
   "execution_count": 1,
   "id": "652ea19f",
   "metadata": {},
   "outputs": [],
   "source": [
    "import pandas as pd\n",
    "import numpy as np\n",
    "import warnings\n",
    "warnings.filterwarnings('ignore')"
   ]
  },
  {
   "cell_type": "markdown",
   "id": "607dde94",
   "metadata": {},
   "source": [
    "# Importing datasets"
   ]
  },
  {
   "cell_type": "code",
   "execution_count": 2,
   "id": "81ed237c",
   "metadata": {},
   "outputs": [
    {
     "data": {
      "text/html": [
       "<div>\n",
       "<style scoped>\n",
       "    .dataframe tbody tr th:only-of-type {\n",
       "        vertical-align: middle;\n",
       "    }\n",
       "\n",
       "    .dataframe tbody tr th {\n",
       "        vertical-align: top;\n",
       "    }\n",
       "\n",
       "    .dataframe thead th {\n",
       "        text-align: right;\n",
       "    }\n",
       "</style>\n",
       "<table border=\"1\" class=\"dataframe\">\n",
       "  <thead>\n",
       "    <tr style=\"text-align: right;\">\n",
       "      <th></th>\n",
       "      <th>Age of patient at time of operation</th>\n",
       "      <th>Patients year of operation</th>\n",
       "      <th>Number of positive axillary nodes detected</th>\n",
       "      <th>Survival status</th>\n",
       "    </tr>\n",
       "  </thead>\n",
       "  <tbody>\n",
       "    <tr>\n",
       "      <th>0</th>\n",
       "      <td>30</td>\n",
       "      <td>62</td>\n",
       "      <td>3</td>\n",
       "      <td>1</td>\n",
       "    </tr>\n",
       "    <tr>\n",
       "      <th>1</th>\n",
       "      <td>30</td>\n",
       "      <td>65</td>\n",
       "      <td>0</td>\n",
       "      <td>1</td>\n",
       "    </tr>\n",
       "    <tr>\n",
       "      <th>2</th>\n",
       "      <td>31</td>\n",
       "      <td>59</td>\n",
       "      <td>2</td>\n",
       "      <td>1</td>\n",
       "    </tr>\n",
       "    <tr>\n",
       "      <th>3</th>\n",
       "      <td>31</td>\n",
       "      <td>65</td>\n",
       "      <td>4</td>\n",
       "      <td>1</td>\n",
       "    </tr>\n",
       "    <tr>\n",
       "      <th>4</th>\n",
       "      <td>33</td>\n",
       "      <td>58</td>\n",
       "      <td>10</td>\n",
       "      <td>1</td>\n",
       "    </tr>\n",
       "  </tbody>\n",
       "</table>\n",
       "</div>"
      ],
      "text/plain": [
       "   Age of patient at time of operation  Patients year of operation  \\\n",
       "0                                   30                          62   \n",
       "1                                   30                          65   \n",
       "2                                   31                          59   \n",
       "3                                   31                          65   \n",
       "4                                   33                          58   \n",
       "\n",
       "   Number of positive axillary nodes detected  Survival status  \n",
       "0                                           3                1  \n",
       "1                                           0                1  \n",
       "2                                           2                1  \n",
       "3                                           4                1  \n",
       "4                                          10                1  "
      ]
     },
     "execution_count": 2,
     "metadata": {},
     "output_type": "execute_result"
    }
   ],
   "source": [
    "data = pd.read_csv(\"haberman.csv\")\n",
    "data.head()"
   ]
  },
  {
   "cell_type": "code",
   "execution_count": 3,
   "id": "b0971b44",
   "metadata": {},
   "outputs": [
    {
     "data": {
      "text/plain": [
       "Index(['Age of patient at time of operation', 'Patients year of operation',\n",
       "       'Number of positive axillary nodes detected', 'Survival status'],\n",
       "      dtype='object')"
      ]
     },
     "execution_count": 3,
     "metadata": {},
     "output_type": "execute_result"
    }
   ],
   "source": [
    "data.columns"
   ]
  },
  {
   "cell_type": "markdown",
   "id": "d0400b3a",
   "metadata": {},
   "source": [
    "# Spliting Data for training and testing"
   ]
  },
  {
   "cell_type": "code",
   "execution_count": 4,
   "id": "8a96b5eb",
   "metadata": {},
   "outputs": [],
   "source": [
    "from sklearn.model_selection import train_test_split\n",
    "X_Data=data[['Age of patient at time of operation', 'Patients year of operation','Number of positive axillary nodes detected']]\n",
    "y_Data=data[['Survival status']]\n",
    "X_train,X_test,y_train,y_test = train_test_split(X_Data,y_Data,test_size=0.2,random_state=42)"
   ]
  },
  {
   "cell_type": "markdown",
   "id": "3c195e67",
   "metadata": {},
   "source": [
    "# Decision Trees"
   ]
  },
  {
   "cell_type": "code",
   "execution_count": 5,
   "id": "5ad40bab",
   "metadata": {
    "scrolled": true
   },
   "outputs": [],
   "source": [
    "#CART\n",
    "from sklearn.tree import DecisionTreeClassifier\n",
    "from sklearn import tree\n",
    "modelDT = DecisionTreeClassifier()\n",
    "modelDT.fit(X_train, np.ravel(y_train,order='C'))\n",
    "predictDT=modelDT.predict(X_test)"
   ]
  },
  {
   "cell_type": "code",
   "execution_count": 6,
   "id": "25f91276",
   "metadata": {},
   "outputs": [
    {
     "name": "stdout",
     "output_type": "stream",
     "text": [
      "              precision    recall  f1-score   support\n",
      "\n",
      "           1       0.83      0.83      0.83        47\n",
      "           2       0.43      0.43      0.43        14\n",
      "\n",
      "    accuracy                           0.74        61\n",
      "   macro avg       0.63      0.63      0.63        61\n",
      "weighted avg       0.74      0.74      0.74        61\n",
      "\n"
     ]
    },
    {
     "data": {
      "image/png": "[encoded data removed]",
      "text/plain": [
       "<Figure size 432x288 with 2 Axes>"
      ]
     },
     "metadata": {
      "needs_background": "light"
     },
     "output_type": "display_data"
    }
   ],
   "source": [
    "##evaluation of metrices\n",
    "\n",
    "#Confusion Matrix\n",
    "from sklearn.metrics import confusion_matrix\n",
    "from sklearn.metrics import ConfusionMatrixDisplay\n",
    "cm = confusion_matrix(y_test,predictDT)\n",
    "cm_display = ConfusionMatrixDisplay(cm).plot()\n",
    "\n",
    "#Classification Report\n",
    "from sklearn.metrics import classification_report\n",
    "print(classification_report(y_test, predictDT))\n"
   ]
  },
  {
   "cell_type": "markdown",
   "id": "009a3144",
   "metadata": {},
   "source": [
    "# Random Forest"
   ]
  },
  {
   "cell_type": "code",
   "execution_count": 7,
   "id": "e3c725ce",
   "metadata": {},
   "outputs": [],
   "source": [
    "from sklearn.ensemble import RandomForestClassifier\n",
    "modelRFC=RandomForestClassifier()\n",
    "modelRFC.fit(X_train, np.ravel(y_train,order='C'))\n",
    "predictRFC=modelRFC.predict(X_test)"
   ]
  },
  {
   "cell_type": "code",
   "execution_count": 8,
   "id": "4550f425",
   "metadata": {},
   "outputs": [
    {
     "name": "stdout",
     "output_type": "stream",
     "text": [
      "              precision    recall  f1-score   support\n",
      "\n",
      "           1       0.85      0.83      0.84        47\n",
      "           2       0.47      0.50      0.48        14\n",
      "\n",
      "    accuracy                           0.75        61\n",
      "   macro avg       0.66      0.66      0.66        61\n",
      "weighted avg       0.76      0.75      0.76        61\n",
      "\n"
     ]
    },
    {
     "data": {
      "image/png": "[encoded data removed]",
      "text/plain": [
       "<Figure size 432x288 with 2 Axes>"
      ]
     },
     "metadata": {
      "needs_background": "light"
     },
     "output_type": "display_data"
    }
   ],
   "source": [
    "##evaluation of metrices\n",
    "\n",
    "#Confusion Matrix\n",
    "from sklearn.metrics import confusion_matrix\n",
    "from sklearn.metrics import ConfusionMatrixDisplay\n",
    "cm = confusion_matrix(y_test,predictRFC)\n",
    "cm_display = ConfusionMatrixDisplay(cm).plot()\n",
    "\n",
    "#Classification Report\n",
    "from sklearn.metrics import classification_report\n",
    "print(classification_report(y_test, predictRFC))"
   ]
  },
  {
   "cell_type": "markdown",
   "id": "243604a0",
   "metadata": {},
   "source": [
    "# Naive Bayes"
   ]
  },
  {
   "cell_type": "code",
   "execution_count": 9,
   "id": "0636748f",
   "metadata": {},
   "outputs": [],
   "source": [
    "from sklearn.naive_bayes import GaussianNB\n",
    "modelGNB = GaussianNB()\n",
    "modelGNB.fit(X_train, np.ravel(y_train,order='C'))\n",
    "predictGNB=modelGNB.predict(X_test)"
   ]
  },
  {
   "cell_type": "code",
   "execution_count": 10,
   "id": "47481dba",
   "metadata": {},
   "outputs": [
    {
     "name": "stdout",
     "output_type": "stream",
     "text": [
      "              precision    recall  f1-score   support\n",
      "\n",
      "           1       0.81      0.91      0.86        47\n",
      "           2       0.50      0.29      0.36        14\n",
      "\n",
      "    accuracy                           0.77        61\n",
      "   macro avg       0.66      0.60      0.61        61\n",
      "weighted avg       0.74      0.77      0.75        61\n",
      "\n"
     ]
    },
    {
     "data": {
      "image/png": "[encoded data removed]",
      "text/plain": [
       "<Figure size 432x288 with 2 Axes>"
      ]
     },
     "metadata": {
      "needs_background": "light"
     },
     "output_type": "display_data"
    }
   ],
   "source": [
    "##evaluation of metrices\n",
    "\n",
    "#Confusion Matrix\n",
    "from sklearn.metrics import confusion_matrix\n",
    "from sklearn.metrics import ConfusionMatrixDisplay\n",
    "cm = confusion_matrix(y_test,predictGNB)\n",
    "cm_display = ConfusionMatrixDisplay(cm).plot()\n",
    "\n",
    "#Classification Report\n",
    "from sklearn.metrics import classification_report\n",
    "print(classification_report(y_test, predictGNB))"
   ]
  },
  {
   "cell_type": "markdown",
   "id": "bf968fda",
   "metadata": {},
   "source": [
    "# AdaBoost"
   ]
  },
  {
   "cell_type": "code",
   "execution_count": 11,
   "id": "992fc153",
   "metadata": {},
   "outputs": [],
   "source": [
    "from sklearn.ensemble import AdaBoostClassifier\n",
    "modelAda = AdaBoostClassifier()\n",
    "modelAda.fit(X_train, np.ravel(y_train,order='C'))\n",
    "predictAda=modelAda.predict(X_test)"
   ]
  },
  {
   "cell_type": "code",
   "execution_count": 12,
   "id": "73009d36",
   "metadata": {},
   "outputs": [
    {
     "name": "stdout",
     "output_type": "stream",
     "text": [
      "              precision    recall  f1-score   support\n",
      "\n",
      "           1       0.84      0.87      0.85        47\n",
      "           2       0.50      0.43      0.46        14\n",
      "\n",
      "    accuracy                           0.77        61\n",
      "   macro avg       0.67      0.65      0.66        61\n",
      "weighted avg       0.76      0.77      0.76        61\n",
      "\n"
     ]
    },
    {
     "data": {
      "image/png": "[encoded data removed]",
      "text/plain": [
       "<Figure size 432x288 with 2 Axes>"
      ]
     },
     "metadata": {
      "needs_background": "light"
     },
     "output_type": "display_data"
    }
   ],
   "source": [
    "##evaluation of metrices\n",
    "\n",
    "#Confusion Matrix\n",
    "from sklearn.metrics import confusion_matrix\n",
    "from sklearn.metrics import ConfusionMatrixDisplay\n",
    "cm = confusion_matrix(y_test,predictAda)\n",
    "cm_display = ConfusionMatrixDisplay(cm).plot()\n",
    "\n",
    "#Classification Report\n",
    "from sklearn.metrics import classification_report\n",
    "print(classification_report(y_test, predictAda))"
   ]
  },
  {
   "cell_type": "markdown",
   "id": "6a548a34",
   "metadata": {},
   "source": [
    "# Data normalization"
   ]
  },
  {
   "cell_type": "code",
   "execution_count": 13,
   "id": "f0f1800d",
   "metadata": {},
   "outputs": [],
   "source": [
    "from sklearn.preprocessing import MinMaxScaler\n",
    "scaler = MinMaxScaler()\n",
    "\n",
    "scaler.fit(X_train)\n",
    "X_train_normalized = scaler.transform(X_train)\n",
    "\n",
    "#scaler.fit(y_train)\n",
    "#y_train_normalized = scaler.transform(y_train)\n",
    "\n",
    "scaler.fit(X_test)\n",
    "X_test_normalized = scaler.transform(X_test)\n",
    "\n",
    "scaler.fit(y_train)\n",
    "y_test_normalized = scaler.transform(y_test)"
   ]
  },
  {
   "cell_type": "markdown",
   "id": "18db8f59",
   "metadata": {},
   "source": [
    "# K-Nearest Neighbours"
   ]
  },
  {
   "cell_type": "code",
   "execution_count": 14,
   "id": "bcf93e76",
   "metadata": {},
   "outputs": [],
   "source": [
    "from sklearn.neighbors import KNeighborsClassifier\n",
    "modelKNN =  KNeighborsClassifier()\n",
    "modelKNN.fit(X_train_normalized, np.ravel(y_train,order='C'))\n",
    "predictKNN=modelKNN.predict(X_test_normalized)"
   ]
  },
  {
   "cell_type": "code",
   "execution_count": 15,
   "id": "7e29e481",
   "metadata": {},
   "outputs": [
    {
     "name": "stdout",
     "output_type": "stream",
     "text": [
      "              precision    recall  f1-score   support\n",
      "\n",
      "           1       0.82      0.85      0.83        47\n",
      "           2       0.42      0.36      0.38        14\n",
      "\n",
      "    accuracy                           0.74        61\n",
      "   macro avg       0.62      0.60      0.61        61\n",
      "weighted avg       0.72      0.74      0.73        61\n",
      "\n"
     ]
    },
    {
     "data": {
      "image/png": "[encoded data removed]",
      "text/plain": [
       "<Figure size 432x288 with 2 Axes>"
      ]
     },
     "metadata": {
      "needs_background": "light"
     },
     "output_type": "display_data"
    }
   ],
   "source": [
    "##evaluation of metrices\n",
    "\n",
    "#Confusion Matrix\n",
    "from sklearn.metrics import confusion_matrix\n",
    "from sklearn.metrics import ConfusionMatrixDisplay\n",
    "cm = confusion_matrix(y_test,predictKNN)\n",
    "cm_display = ConfusionMatrixDisplay(cm).plot()\n",
    "\n",
    "#Classification Report\n",
    "from sklearn.metrics import classification_report\n",
    "print(classification_report(y_test, predictKNN))\n"
   ]
  },
  {
   "cell_type": "markdown",
   "id": "95e75d8c",
   "metadata": {},
   "source": [
    "# Support Vector Machine"
   ]
  },
  {
   "cell_type": "code",
   "execution_count": 16,
   "id": "6293d375",
   "metadata": {},
   "outputs": [],
   "source": [
    "#Support Vector Classifier\n",
    "from sklearn.svm import SVC\n",
    "modelSVC = SVC(probability= True)\n",
    "modelSVC.fit(X_train_normalized, np.ravel(y_train,order='C'))\n",
    "predictSVC=modelSVC.predict(X_test_normalized)"
   ]
  },
  {
   "cell_type": "code",
   "execution_count": 17,
   "id": "c9b9b144",
   "metadata": {
    "scrolled": true
   },
   "outputs": [
    {
     "name": "stdout",
     "output_type": "stream",
     "text": [
      "              precision    recall  f1-score   support\n",
      "\n",
      "           1       0.76      0.89      0.82        47\n",
      "           2       0.17      0.07      0.10        14\n",
      "\n",
      "    accuracy                           0.70        61\n",
      "   macro avg       0.47      0.48      0.46        61\n",
      "weighted avg       0.63      0.70      0.66        61\n",
      "\n"
     ]
    },
    {
     "data": {
      "image/png": "[encoded data removed]",
      "text/plain": [
       "<Figure size 432x288 with 2 Axes>"
      ]
     },
     "metadata": {
      "needs_background": "light"
     },
     "output_type": "display_data"
    }
   ],
   "source": [
    "##evaluation of metrices\n",
    "\n",
    "#Confusion Matrix\n",
    "from sklearn.metrics import confusion_matrix\n",
    "from sklearn.metrics import ConfusionMatrixDisplay\n",
    "cm = confusion_matrix(y_test,predictSVC)\n",
    "cm_display = ConfusionMatrixDisplay(cm).plot()\n",
    "\n",
    "#Classification Report\n",
    "from sklearn.metrics import classification_report\n",
    "print(classification_report(y_test, predictSVC))"
   ]
  },
  {
   "cell_type": "code",
   "execution_count": 18,
   "id": "1f8e97d9",
   "metadata": {},
   "outputs": [],
   "source": [
    "# Linear Support Vector Classifier\n",
    "from sklearn.svm import LinearSVC\n",
    "modelLSVC = LinearSVC()\n",
    "modelLSVC.fit(X_train_normalized, np.ravel(y_train,order='C'))\n",
    "predictLSVC=modelLSVC.predict(X_test_normalized)"
   ]
  },
  {
   "cell_type": "code",
   "execution_count": 19,
   "id": "0a3e107e",
   "metadata": {},
   "outputs": [
    {
     "name": "stdout",
     "output_type": "stream",
     "text": [
      "              precision    recall  f1-score   support\n",
      "\n",
      "           1       0.81      0.89      0.85        47\n",
      "           2       0.44      0.29      0.35        14\n",
      "\n",
      "    accuracy                           0.75        61\n",
      "   macro avg       0.63      0.59      0.60        61\n",
      "weighted avg       0.72      0.75      0.73        61\n",
      "\n"
     ]
    },
    {
     "data": {
      "image/png": "[encoded data removed]",
      "text/plain": [
       "<Figure size 432x288 with 2 Axes>"
      ]
     },
     "metadata": {
      "needs_background": "light"
     },
     "output_type": "display_data"
    }
   ],
   "source": [
    "##evaluation of metrices\n",
    "\n",
    "#Confusion Matrix\n",
    "from sklearn.metrics import confusion_matrix\n",
    "from sklearn.metrics import ConfusionMatrixDisplay\n",
    "cm = confusion_matrix(y_test,predictLSVC)\n",
    "cm_display = ConfusionMatrixDisplay(cm).plot()\n",
    "\n",
    "#Classification Report\n",
    "from sklearn.metrics import classification_report\n",
    "print(classification_report(y_test, predictLSVC))"
   ]
  },
  {
   "cell_type": "markdown",
   "id": "30aad0fb",
   "metadata": {},
   "source": [
    "# Multi-Layer Perceptron"
   ]
  },
  {
   "cell_type": "code",
   "execution_count": 20,
   "id": "a6876807",
   "metadata": {},
   "outputs": [],
   "source": [
    "from sklearn.neural_network import MLPClassifier\n",
    "modelMLP =  MLPClassifier()\n",
    "modelMLP.fit(X_train_normalized, np.ravel(y_train,order='C'))\n",
    "predictMLP=modelMLP.predict(X_test_normalized)"
   ]
  },
  {
   "cell_type": "code",
   "execution_count": 21,
   "id": "a3af33c9",
   "metadata": {},
   "outputs": [
    {
     "name": "stdout",
     "output_type": "stream",
     "text": [
      "              precision    recall  f1-score   support\n",
      "\n",
      "           1       0.80      0.85      0.82        47\n",
      "           2       0.36      0.29      0.32        14\n",
      "\n",
      "    accuracy                           0.72        61\n",
      "   macro avg       0.58      0.57      0.57        61\n",
      "weighted avg       0.70      0.72      0.71        61\n",
      "\n"
     ]
    },
    {
     "data": {
      "image/png": "[encoded data removed]",
      "text/plain": [
       "<Figure size 432x288 with 2 Axes>"
      ]
     },
     "metadata": {
      "needs_background": "light"
     },
     "output_type": "display_data"
    }
   ],
   "source": [
    "##evaluation of metrices\n",
    "\n",
    "#Confusion Matrix\n",
    "from sklearn.metrics import confusion_matrix\n",
    "from sklearn.metrics import ConfusionMatrixDisplay\n",
    "cm = confusion_matrix(y_test,predictMLP)\n",
    "cm_display = ConfusionMatrixDisplay(cm).plot()\n",
    "\n",
    "#Classification Report\n",
    "from sklearn.metrics import classification_report\n",
    "print(classification_report(y_test, predictMLP))"
   ]
  },
  {
   "cell_type": "markdown",
   "id": "2e1399ea",
   "metadata": {},
   "source": [
    "# ROC and AUC "
   ]
  },
  {
   "cell_type": "code",
   "execution_count": 22,
   "id": "fd9b392e",
   "metadata": {},
   "outputs": [
    {
     "data": {
      "image/png": "[encoded data removed]",
      "text/plain": [
       "<Figure size 432x288 with 1 Axes>"
      ]
     },
     "metadata": {
      "needs_background": "light"
     },
     "output_type": "display_data"
    }
   ],
   "source": [
    "r_probs =[0 for _ in range(len(y_test_normalized))]\n",
    "dt_probs=modelDT.predict_proba(X_test)\n",
    "rf_probs=modelRFC.predict_proba(X_test)\n",
    "nb_probs=modelGNB.predict_proba(X_test)\n",
    "ada_probs=modelAda.predict_proba(X_test)\n",
    "knn_probs=modelKNN.predict_proba(X_test_normalized)\n",
    "svm_probs=modelSVC.predict_proba(X_test_normalized)\n",
    "lsvm_probs=modelLSVC._predict_proba_lr(X_test_normalized)\n",
    "mlp_probs=modelMLP.predict_proba(X_test_normalized)\n",
    "\n",
    "dt_probs=dt_probs[:,1]\n",
    "rf_probs=rf_probs[:, 1]\n",
    "nb_probs=nb_probs[:, 1]\n",
    "ada_probs=ada_probs[:, 1]\n",
    "knn_probs=knn_probs[:, 1]\n",
    "svm_probs=svm_probs[:, 1]\n",
    "lsvm_probs=lsvm_probs[:, 1]\n",
    "mlp_probs=mlp_probs[:, 1]\n",
    "\n",
    "from sklearn.metrics import roc_curve, roc_auc_score\n",
    "\n",
    "r_auc=roc_auc_score(y_test,r_probs)\n",
    "dt_auc= roc_auc_score(y_test,dt_probs)\n",
    "rf_auc= roc_auc_score(y_test,rf_probs)\n",
    "nb_auc= roc_auc_score(y_test,nb_probs)\n",
    "ada_auc= roc_auc_score(y_test,ada_probs)\n",
    "knn_auc= roc_auc_score(y_test,knn_probs)\n",
    "svm_auc= roc_auc_score(y_test,svm_probs)\n",
    "lsvm_auc= roc_auc_score(y_test,lsvm_probs)\n",
    "mlp_auc= roc_auc_score(y_test,mlp_probs)\n",
    "\n",
    "r_fpr,r_tpr, _ = roc_curve(y_test_normalized,r_probs)\n",
    "dt_fpr, dt_tpr, _ = roc_curve(y_test_normalized,dt_probs)\n",
    "rf_fpr, rf_tpr, _= roc_curve(y_test_normalized,rf_probs)\n",
    "nb_fpr, nb_tpr, _= roc_curve(y_test_normalized,nb_probs)\n",
    "ada_fpr, ada_tpr, _= roc_curve(y_test_normalized,ada_probs)\n",
    "knn_fpr, knn_tpr, _= roc_curve(y_test_normalized,knn_probs)\n",
    "svm_fpr, svm_tpr, _= roc_curve(y_test_normalized,svm_probs)\n",
    "lsvm_fpr, lsvm_tpr, _= roc_curve(y_test_normalized,lsvm_probs)\n",
    "mlp_fpr, mlp_tpr, _= roc_curve(y_test_normalized,mlp_probs)\n",
    "\n",
    "import matplotlib.pyplot as plt\n",
    "\n",
    "plt.plot(r_fpr, r_tpr, linestyle='--', label='Random prediction (AUROC = %0.3f)' % r_auc)\n",
    "plt.plot(dt_fpr, dt_tpr, marker='.', label='Decision Tree (AUROC = %0.3f)' % dt_auc)\n",
    "plt.plot(rf_fpr, rf_tpr, marker='.', label='Random Forest (AUROC = %0.3f)' % rf_auc)\n",
    "plt.plot(nb_fpr, nb_tpr, marker='.', label='Naive Bayes (AUROC = %0.3f)' % nb_auc)\n",
    "plt.plot(ada_fpr, ada_tpr, marker='.', label='AdaBoost (AUROC = %0.3f)' % ada_auc)\n",
    "plt.plot(knn_fpr, knn_tpr, marker='.', label='kNN (AUROC = %0.3f)' % knn_auc)\n",
    "plt.plot(svm_fpr, svm_tpr, marker='.', label='SVM (AUROC = %0.3f)' % svm_auc)\n",
    "plt.plot(lsvm_fpr, lsvm_tpr, marker='.', label='LSVM (AUROC = %0.3f)' % lsvm_auc)\n",
    "plt.plot(mlp_fpr, mlp_tpr, marker='.', label='MLP (AUROC = %0.3f)' % mlp_auc)\n",
    "\n",
    "# Title\n",
    "plt.title('ROC Plot for haberman Data Set')\n",
    "# Axis labels\n",
    "plt.xlabel('False Positive Rate')\n",
    "plt.ylabel('True Positive Rate')\n",
    "# Show legend\n",
    "plt.legend() # \n",
    "# Show plot\n",
    "plt.show()"
   ]
  }
 ],
 "metadata": {
  "kernelspec": {
   "display_name": "Python 3",
   "language": "python",
   "name": "python3"
  },
  "language_info": {
   "codemirror_mode": {
    "name": "ipython",
    "version": 3
   },
   "file_extension": ".py",
   "mimetype": "text/x-python",
   "name": "python",
   "nbconvert_exporter": "python",
   "pygments_lexer": "ipython3",
   "version": "3.8.8"
  }
 },
 "nbformat": 4,
 "nbformat_minor": 5
}
