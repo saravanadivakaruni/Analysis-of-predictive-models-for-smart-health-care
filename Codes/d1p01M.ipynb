{
 "cells": [
  {
   "cell_type": "markdown",
   "id": "1fc084a5",
   "metadata": {},
   "source": [
    "# Activity recognition with healthy older people using a battery less wearable sensor Data Set (d1p01M)"
   ]
  },
  {
   "cell_type": "code",
   "execution_count": 1,
   "id": "652ea19f",
   "metadata": {},
   "outputs": [],
   "source": [
    "import pandas as pd\n",
    "import numpy as np\n",
    "import warnings\n",
    "warnings.filterwarnings('ignore')"
   ]
  },
  {
   "cell_type": "markdown",
   "id": "607dde94",
   "metadata": {},
   "source": [
    "# Importing datasets"
   ]
  },
  {
   "cell_type": "code",
   "execution_count": 2,
   "id": "81ed237c",
   "metadata": {},
   "outputs": [
    {
     "data": {
      "text/html": [
       "<div>\n",
       "<style scoped>\n",
       "    .dataframe tbody tr th:only-of-type {\n",
       "        vertical-align: middle;\n",
       "    }\n",
       "\n",
       "    .dataframe tbody tr th {\n",
       "        vertical-align: top;\n",
       "    }\n",
       "\n",
       "    .dataframe thead th {\n",
       "        text-align: right;\n",
       "    }\n",
       "</style>\n",
       "<table border=\"1\" class=\"dataframe\">\n",
       "  <thead>\n",
       "    <tr style=\"text-align: right;\">\n",
       "      <th></th>\n",
       "      <th>Time in seconds starting from 0 rounded to the closest 0.025s</th>\n",
       "      <th>Acceleration reading in G for frontal axis</th>\n",
       "      <th>Acceleration reading in G for vertical axis</th>\n",
       "      <th>Acceleration reading in G for lateral axis</th>\n",
       "      <th>Id of antenna reading sensor</th>\n",
       "      <th>Received signal strength indicator (RSSI)</th>\n",
       "      <th>Phase</th>\n",
       "      <th>Frequency</th>\n",
       "      <th>Label of activity</th>\n",
       "    </tr>\n",
       "  </thead>\n",
       "  <tbody>\n",
       "    <tr>\n",
       "      <th>0</th>\n",
       "      <td>0.50</td>\n",
       "      <td>0.27203</td>\n",
       "      <td>1.00820</td>\n",
       "      <td>-0.082102</td>\n",
       "      <td>1</td>\n",
       "      <td>-63.0</td>\n",
       "      <td>4.7369</td>\n",
       "      <td>921.75</td>\n",
       "      <td>1</td>\n",
       "    </tr>\n",
       "    <tr>\n",
       "      <th>1</th>\n",
       "      <td>1.50</td>\n",
       "      <td>0.44791</td>\n",
       "      <td>0.91636</td>\n",
       "      <td>-0.013684</td>\n",
       "      <td>1</td>\n",
       "      <td>-63.5</td>\n",
       "      <td>3.0311</td>\n",
       "      <td>923.75</td>\n",
       "      <td>1</td>\n",
       "    </tr>\n",
       "    <tr>\n",
       "      <th>2</th>\n",
       "      <td>1.75</td>\n",
       "      <td>0.44791</td>\n",
       "      <td>0.91636</td>\n",
       "      <td>-0.013684</td>\n",
       "      <td>1</td>\n",
       "      <td>-63.0</td>\n",
       "      <td>2.0371</td>\n",
       "      <td>921.25</td>\n",
       "      <td>1</td>\n",
       "    </tr>\n",
       "    <tr>\n",
       "      <th>3</th>\n",
       "      <td>2.50</td>\n",
       "      <td>0.34238</td>\n",
       "      <td>0.96229</td>\n",
       "      <td>-0.059296</td>\n",
       "      <td>1</td>\n",
       "      <td>-63.5</td>\n",
       "      <td>5.8920</td>\n",
       "      <td>920.25</td>\n",
       "      <td>1</td>\n",
       "    </tr>\n",
       "    <tr>\n",
       "      <th>4</th>\n",
       "      <td>3.25</td>\n",
       "      <td>0.34238</td>\n",
       "      <td>0.96229</td>\n",
       "      <td>-0.059296</td>\n",
       "      <td>4</td>\n",
       "      <td>-56.5</td>\n",
       "      <td>1.2563</td>\n",
       "      <td>924.75</td>\n",
       "      <td>1</td>\n",
       "    </tr>\n",
       "  </tbody>\n",
       "</table>\n",
       "</div>"
      ],
      "text/plain": [
       "   Time in seconds starting from 0 rounded to the closest 0.025s  \\\n",
       "0                                               0.50               \n",
       "1                                               1.50               \n",
       "2                                               1.75               \n",
       "3                                               2.50               \n",
       "4                                               3.25               \n",
       "\n",
       "   Acceleration reading in G for frontal axis  \\\n",
       "0                                     0.27203   \n",
       "1                                     0.44791   \n",
       "2                                     0.44791   \n",
       "3                                     0.34238   \n",
       "4                                     0.34238   \n",
       "\n",
       "   Acceleration reading in G for vertical axis  \\\n",
       "0                                      1.00820   \n",
       "1                                      0.91636   \n",
       "2                                      0.91636   \n",
       "3                                      0.96229   \n",
       "4                                      0.96229   \n",
       "\n",
       "   Acceleration reading in G for lateral axis  Id of antenna reading sensor  \\\n",
       "0                                   -0.082102                             1   \n",
       "1                                   -0.013684                             1   \n",
       "2                                   -0.013684                             1   \n",
       "3                                   -0.059296                             1   \n",
       "4                                   -0.059296                             4   \n",
       "\n",
       "   Received signal strength indicator (RSSI)   Phase  Frequency  \\\n",
       "0                                      -63.0  4.7369     921.75   \n",
       "1                                      -63.5  3.0311     923.75   \n",
       "2                                      -63.0  2.0371     921.25   \n",
       "3                                      -63.5  5.8920     920.25   \n",
       "4                                      -56.5  1.2563     924.75   \n",
       "\n",
       "   Label of activity  \n",
       "0                  1  \n",
       "1                  1  \n",
       "2                  1  \n",
       "3                  1  \n",
       "4                  1  "
      ]
     },
     "execution_count": 2,
     "metadata": {},
     "output_type": "execute_result"
    }
   ],
   "source": [
    "data = pd.read_csv(\"d1p01M.csv\")\n",
    "data.head()"
   ]
  },
  {
   "cell_type": "code",
   "execution_count": 3,
   "id": "b0971b44",
   "metadata": {},
   "outputs": [
    {
     "data": {
      "text/plain": [
       "Index(['Time in seconds starting from 0 rounded to the closest 0.025s',\n",
       "       'Acceleration reading in G for frontal axis',\n",
       "       'Acceleration reading in G for vertical axis',\n",
       "       'Acceleration reading in G for lateral axis',\n",
       "       'Id of antenna reading sensor',\n",
       "       'Received signal strength indicator (RSSI)', 'Phase', 'Frequency',\n",
       "       'Label of activity'],\n",
       "      dtype='object')"
      ]
     },
     "execution_count": 3,
     "metadata": {},
     "output_type": "execute_result"
    }
   ],
   "source": [
    "data.columns"
   ]
  },
  {
   "cell_type": "markdown",
   "id": "d0400b3a",
   "metadata": {},
   "source": [
    "# Spliting Data for training and testing"
   ]
  },
  {
   "cell_type": "code",
   "execution_count": 4,
   "id": "8a96b5eb",
   "metadata": {},
   "outputs": [],
   "source": [
    "from sklearn.model_selection import train_test_split\n",
    "X_Data=data[['Time in seconds starting from 0 rounded to the closest 0.025s','Acceleration reading in G for frontal axis','Acceleration reading in G for vertical axis','Acceleration reading in G for lateral axis','Id of antenna reading sensor','Received signal strength indicator (RSSI)', 'Phase', 'Frequency']]\n",
    "y_Data=data[['Label of activity']]\n",
    "X_train,X_test,y_train,y_test = train_test_split(X_Data,y_Data,test_size=0.2,random_state=42)"
   ]
  },
  {
   "cell_type": "markdown",
   "id": "3c195e67",
   "metadata": {},
   "source": [
    "# Decision Trees"
   ]
  },
  {
   "cell_type": "code",
   "execution_count": 5,
   "id": "5ad40bab",
   "metadata": {
    "scrolled": true
   },
   "outputs": [],
   "source": [
    "#CART\n",
    "from sklearn.tree import DecisionTreeClassifier\n",
    "from sklearn import tree\n",
    "modelDT = DecisionTreeClassifier()\n",
    "modelDT.fit(X_train, np.ravel(y_train,order='C'))\n",
    "predictDT=modelDT.predict(X_test)"
   ]
  },
  {
   "cell_type": "code",
   "execution_count": 6,
   "id": "25f91276",
   "metadata": {},
   "outputs": [
    {
     "name": "stdout",
     "output_type": "stream",
     "text": [
      "              precision    recall  f1-score   support\n",
      "\n",
      "           1       1.00      0.96      0.98        23\n",
      "           2       0.92      0.86      0.89        14\n",
      "           3       1.00      1.00      1.00        43\n",
      "           4       0.00      0.00      0.00         0\n",
      "\n",
      "    accuracy                           0.96        80\n",
      "   macro avg       0.73      0.70      0.72        80\n",
      "weighted avg       0.99      0.96      0.97        80\n",
      "\n"
     ]
    },
    {
     "data": {
      "image/png": "[encoded data removed]",
      "text/plain": [
       "<Figure size 432x288 with 2 Axes>"
      ]
     },
     "metadata": {
      "needs_background": "light"
     },
     "output_type": "display_data"
    }
   ],
   "source": [
    "##evaluation of metrices\n",
    "\n",
    "#Confusion Matrix\n",
    "from sklearn.metrics import confusion_matrix\n",
    "from sklearn.metrics import ConfusionMatrixDisplay\n",
    "cm = confusion_matrix(y_test,predictDT)\n",
    "cm_display = ConfusionMatrixDisplay(cm).plot()\n",
    "\n",
    "#Classification Report\n",
    "from sklearn.metrics import classification_report\n",
    "print(classification_report(y_test, predictDT, ))\n"
   ]
  },
  {
   "cell_type": "markdown",
   "id": "009a3144",
   "metadata": {},
   "source": [
    "# Random Forest"
   ]
  },
  {
   "cell_type": "code",
   "execution_count": 7,
   "id": "e3c725ce",
   "metadata": {},
   "outputs": [],
   "source": [
    "from sklearn.ensemble import RandomForestClassifier\n",
    "modelRFC=RandomForestClassifier()\n",
    "modelRFC.fit(X_train, np.ravel(y_train,order='C'))\n",
    "predictRFC=modelRFC.predict(X_test)"
   ]
  },
  {
   "cell_type": "code",
   "execution_count": 8,
   "id": "4550f425",
   "metadata": {},
   "outputs": [
    {
     "name": "stdout",
     "output_type": "stream",
     "text": [
      "              precision    recall  f1-score   support\n",
      "\n",
      "           1       1.00      1.00      1.00        23\n",
      "           2       1.00      1.00      1.00        14\n",
      "           3       1.00      1.00      1.00        43\n",
      "\n",
      "    accuracy                           1.00        80\n",
      "   macro avg       1.00      1.00      1.00        80\n",
      "weighted avg       1.00      1.00      1.00        80\n",
      "\n"
     ]
    },
    {
     "data": {
      "image/png": "[encoded data removed]",
      "text/plain": [
       "<Figure size 432x288 with 2 Axes>"
      ]
     },
     "metadata": {
      "needs_background": "light"
     },
     "output_type": "display_data"
    }
   ],
   "source": [
    "##evaluation of metrices\n",
    "\n",
    "#Confusion Matrix\n",
    "from sklearn.metrics import confusion_matrix\n",
    "from sklearn.metrics import ConfusionMatrixDisplay\n",
    "cm = confusion_matrix(y_test,predictRFC)\n",
    "cm_display = ConfusionMatrixDisplay(cm).plot()\n",
    "\n",
    "#Classification Report\n",
    "from sklearn.metrics import classification_report\n",
    "print(classification_report(y_test, predictRFC))"
   ]
  },
  {
   "cell_type": "markdown",
   "id": "243604a0",
   "metadata": {},
   "source": [
    "# Naive Bayes"
   ]
  },
  {
   "cell_type": "code",
   "execution_count": 9,
   "id": "0636748f",
   "metadata": {},
   "outputs": [],
   "source": [
    "from sklearn.naive_bayes import GaussianNB\n",
    "modelGNB = GaussianNB()\n",
    "modelGNB.fit(X_train, np.ravel(y_train,order='C'))\n",
    "predictGNB=modelGNB.predict(X_test)"
   ]
  },
  {
   "cell_type": "code",
   "execution_count": 10,
   "id": "47481dba",
   "metadata": {},
   "outputs": [
    {
     "name": "stdout",
     "output_type": "stream",
     "text": [
      "              precision    recall  f1-score   support\n",
      "\n",
      "           1       1.00      0.96      0.98        23\n",
      "           2       1.00      1.00      1.00        14\n",
      "           3       1.00      1.00      1.00        43\n",
      "           4       0.00      0.00      0.00         0\n",
      "\n",
      "    accuracy                           0.99        80\n",
      "   macro avg       0.75      0.74      0.74        80\n",
      "weighted avg       1.00      0.99      0.99        80\n",
      "\n"
     ]
    },
    {
     "data": {
      "image/png": "[encoded data removed]",
      "text/plain": [
       "<Figure size 432x288 with 2 Axes>"
      ]
     },
     "metadata": {
      "needs_background": "light"
     },
     "output_type": "display_data"
    }
   ],
   "source": [
    "##evaluation of metrices\n",
    "\n",
    "#Confusion Matrix\n",
    "from sklearn.metrics import confusion_matrix\n",
    "from sklearn.metrics import ConfusionMatrixDisplay\n",
    "cm = confusion_matrix(y_test,predictGNB)\n",
    "cm_display = ConfusionMatrixDisplay(cm).plot()\n",
    "\n",
    "#Classification Report\n",
    "from sklearn.metrics import classification_report\n",
    "print(classification_report(y_test, predictGNB))"
   ]
  },
  {
   "cell_type": "markdown",
   "id": "bf968fda",
   "metadata": {},
   "source": [
    "# AdaBoost"
   ]
  },
  {
   "cell_type": "code",
   "execution_count": 11,
   "id": "992fc153",
   "metadata": {},
   "outputs": [],
   "source": [
    "from sklearn.ensemble import AdaBoostClassifier\n",
    "modelAda = AdaBoostClassifier()\n",
    "modelAda.fit(X_train, np.ravel(y_train,order='C'))\n",
    "predictAda=modelAda.predict(X_test)"
   ]
  },
  {
   "cell_type": "code",
   "execution_count": 12,
   "id": "73009d36",
   "metadata": {},
   "outputs": [
    {
     "name": "stdout",
     "output_type": "stream",
     "text": [
      "              precision    recall  f1-score   support\n",
      "\n",
      "           1       0.92      1.00      0.96        23\n",
      "           2       1.00      0.86      0.92        14\n",
      "           3       1.00      1.00      1.00        43\n",
      "\n",
      "    accuracy                           0.97        80\n",
      "   macro avg       0.97      0.95      0.96        80\n",
      "weighted avg       0.98      0.97      0.97        80\n",
      "\n"
     ]
    },
    {
     "data": {
      "image/png": "[encoded data removed]",
      "text/plain": [
       "<Figure size 432x288 with 2 Axes>"
      ]
     },
     "metadata": {
      "needs_background": "light"
     },
     "output_type": "display_data"
    }
   ],
   "source": [
    "##evaluation of metrices\n",
    "\n",
    "#Confusion Matrix\n",
    "from sklearn.metrics import confusion_matrix\n",
    "from sklearn.metrics import ConfusionMatrixDisplay\n",
    "cm = confusion_matrix(y_test,predictAda)\n",
    "cm_display = ConfusionMatrixDisplay(cm).plot()\n",
    "\n",
    "#Classification Report\n",
    "from sklearn.metrics import classification_report\n",
    "print(classification_report(y_test, predictAda))"
   ]
  },
  {
   "cell_type": "markdown",
   "id": "6a548a34",
   "metadata": {},
   "source": [
    "# Data normalization"
   ]
  },
  {
   "cell_type": "code",
   "execution_count": 13,
   "id": "f0f1800d",
   "metadata": {},
   "outputs": [],
   "source": [
    "from sklearn.preprocessing import MinMaxScaler\n",
    "scaler = MinMaxScaler()\n",
    "\n",
    "scaler.fit(X_train)\n",
    "X_train_normalized = scaler.transform(X_train)\n",
    "\n",
    "#scaler.fit(y_train)\n",
    "#y_train_normalized = scaler.transform(y_train)\n",
    "\n",
    "scaler.fit(X_test)\n",
    "X_test_normalized = scaler.transform(X_test)\n",
    "\n",
    "#scaler.fit(y_train)\n",
    "#y_test_normalized = scaler.transform(y_test)\n"
   ]
  },
  {
   "cell_type": "markdown",
   "id": "18db8f59",
   "metadata": {},
   "source": [
    "# K-Nearest Neighbours"
   ]
  },
  {
   "cell_type": "code",
   "execution_count": 14,
   "id": "bcf93e76",
   "metadata": {},
   "outputs": [],
   "source": [
    "from sklearn.neighbors import KNeighborsClassifier\n",
    "modelKNN =  KNeighborsClassifier()\n",
    "modelKNN.fit(X_train_normalized, np.ravel(y_train,order='C'))\n",
    "predictKNN=modelKNN.predict(X_test_normalized)"
   ]
  },
  {
   "cell_type": "code",
   "execution_count": 15,
   "id": "7e29e481",
   "metadata": {},
   "outputs": [
    {
     "name": "stdout",
     "output_type": "stream",
     "text": [
      "              precision    recall  f1-score   support\n",
      "\n",
      "           1       1.00      0.96      0.98        23\n",
      "           2       1.00      1.00      1.00        14\n",
      "           3       0.98      1.00      0.99        43\n",
      "\n",
      "    accuracy                           0.99        80\n",
      "   macro avg       0.99      0.99      0.99        80\n",
      "weighted avg       0.99      0.99      0.99        80\n",
      "\n"
     ]
    },
    {
     "data": {
      "image/png": "[encoded data removed]",
      "text/plain": [
       "<Figure size 432x288 with 2 Axes>"
      ]
     },
     "metadata": {
      "needs_background": "light"
     },
     "output_type": "display_data"
    }
   ],
   "source": [
    "##evaluation of metrices\n",
    "\n",
    "#Confusion Matrix\n",
    "from sklearn.metrics import confusion_matrix\n",
    "from sklearn.metrics import ConfusionMatrixDisplay\n",
    "cm = confusion_matrix(y_test,predictKNN)\n",
    "cm_display = ConfusionMatrixDisplay(cm).plot()\n",
    "\n",
    "#Classification Report\n",
    "from sklearn.metrics import classification_report\n",
    "print(classification_report(y_test, predictKNN))\n"
   ]
  },
  {
   "cell_type": "markdown",
   "id": "95e75d8c",
   "metadata": {},
   "source": [
    "# Support Vector Machine"
   ]
  },
  {
   "cell_type": "code",
   "execution_count": 16,
   "id": "6293d375",
   "metadata": {},
   "outputs": [],
   "source": [
    "#Support Vector Classifier\n",
    "from sklearn.svm import SVC\n",
    "modelSVC = SVC(probability=True)\n",
    "modelSVC.fit(X_train_normalized, np.ravel(y_train,order='C'))\n",
    "predictSVC=modelSVC.predict(X_test_normalized)"
   ]
  },
  {
   "cell_type": "code",
   "execution_count": 17,
   "id": "c9b9b144",
   "metadata": {
    "scrolled": true
   },
   "outputs": [
    {
     "name": "stdout",
     "output_type": "stream",
     "text": [
      "              precision    recall  f1-score   support\n",
      "\n",
      "           1       1.00      1.00      1.00        23\n",
      "           2       1.00      1.00      1.00        14\n",
      "           3       1.00      1.00      1.00        43\n",
      "\n",
      "    accuracy                           1.00        80\n",
      "   macro avg       1.00      1.00      1.00        80\n",
      "weighted avg       1.00      1.00      1.00        80\n",
      "\n"
     ]
    },
    {
     "data": {
      "image/png": "[encoded data removed]",
      "text/plain": [
       "<Figure size 432x288 with 2 Axes>"
      ]
     },
     "metadata": {
      "needs_background": "light"
     },
     "output_type": "display_data"
    }
   ],
   "source": [
    "##evaluation of metrices\n",
    "\n",
    "#Confusion Matrix\n",
    "from sklearn.metrics import confusion_matrix\n",
    "from sklearn.metrics import ConfusionMatrixDisplay\n",
    "cm = confusion_matrix(y_test,predictSVC)\n",
    "cm_display = ConfusionMatrixDisplay(cm).plot()\n",
    "\n",
    "#Classification Report\n",
    "from sklearn.metrics import classification_report\n",
    "print(classification_report(y_test, predictSVC))"
   ]
  },
  {
   "cell_type": "code",
   "execution_count": 18,
   "id": "1f8e97d9",
   "metadata": {},
   "outputs": [],
   "source": [
    "# Linear Support Vector Classifier\n",
    "from sklearn.svm import LinearSVC\n",
    "modelLSVC = LinearSVC()\n",
    "modelLSVC.fit(X_train_normalized, np.ravel(y_train,order='C'))\n",
    "predictLSVC=modelLSVC.predict(X_test_normalized)"
   ]
  },
  {
   "cell_type": "code",
   "execution_count": 19,
   "id": "0a3e107e",
   "metadata": {},
   "outputs": [
    {
     "name": "stdout",
     "output_type": "stream",
     "text": [
      "              precision    recall  f1-score   support\n",
      "\n",
      "           1       1.00      1.00      1.00        23\n",
      "           2       1.00      1.00      1.00        14\n",
      "           3       1.00      1.00      1.00        43\n",
      "\n",
      "    accuracy                           1.00        80\n",
      "   macro avg       1.00      1.00      1.00        80\n",
      "weighted avg       1.00      1.00      1.00        80\n",
      "\n"
     ]
    },
    {
     "data": {
      "image/png": "[encoded data removed]",
      "text/plain": [
       "<Figure size 432x288 with 2 Axes>"
      ]
     },
     "metadata": {
      "needs_background": "light"
     },
     "output_type": "display_data"
    }
   ],
   "source": [
    "##evaluation of metrices\n",
    "\n",
    "#Confusion Matrix\n",
    "from sklearn.metrics import confusion_matrix\n",
    "from sklearn.metrics import ConfusionMatrixDisplay\n",
    "cm = confusion_matrix(y_test,predictLSVC)\n",
    "cm_display = ConfusionMatrixDisplay(cm).plot()\n",
    "\n",
    "#Classification Report\n",
    "from sklearn.metrics import classification_report\n",
    "print(classification_report(y_test, predictLSVC))"
   ]
  },
  {
   "cell_type": "markdown",
   "id": "30aad0fb",
   "metadata": {},
   "source": [
    "# Multi-Layer Perceptron"
   ]
  },
  {
   "cell_type": "code",
   "execution_count": 20,
   "id": "a6876807",
   "metadata": {},
   "outputs": [],
   "source": [
    "from sklearn.neural_network import MLPClassifier\n",
    "modelMLP =  MLPClassifier()\n",
    "modelMLP.fit(X_train_normalized, np.ravel(y_train,order='C'))\n",
    "predictMLP=modelMLP.predict(X_test_normalized)"
   ]
  },
  {
   "cell_type": "code",
   "execution_count": 21,
   "id": "a3af33c9",
   "metadata": {},
   "outputs": [
    {
     "name": "stdout",
     "output_type": "stream",
     "text": [
      "              precision    recall  f1-score   support\n",
      "\n",
      "           1       1.00      0.87      0.93        23\n",
      "           2       0.93      1.00      0.97        14\n",
      "           3       0.96      1.00      0.98        43\n",
      "\n",
      "    accuracy                           0.96        80\n",
      "   macro avg       0.96      0.96      0.96        80\n",
      "weighted avg       0.96      0.96      0.96        80\n",
      "\n"
     ]
    },
    {
     "data": {
      "image/png": "[encoded data removed]",
      "text/plain": [
       "<Figure size 432x288 with 2 Axes>"
      ]
     },
     "metadata": {
      "needs_background": "light"
     },
     "output_type": "display_data"
    }
   ],
   "source": [
    "##evaluation of metrices\n",
    "\n",
    "#Confusion Matrix\n",
    "from sklearn.metrics import confusion_matrix\n",
    "from sklearn.metrics import ConfusionMatrixDisplay\n",
    "cm = confusion_matrix(y_test,predictMLP)\n",
    "cm_display = ConfusionMatrixDisplay(cm).plot()\n",
    "\n",
    "#Classification Report\n",
    "from sklearn.metrics import classification_report\n",
    "print(classification_report(y_test, predictMLP))"
   ]
  }
 ],
 "metadata": {
  "kernelspec": {
   "display_name": "Python 3",
   "language": "python",
   "name": "python3"
  },
  "language_info": {
   "codemirror_mode": {
    "name": "ipython",
    "version": 3
   },
   "file_extension": ".py",
   "mimetype": "text/x-python",
   "name": "python",
   "nbconvert_exporter": "python",
   "pygments_lexer": "ipython3",
   "version": "3.8.8"
  }
 },
 "nbformat": 4,
 "nbformat_minor": 5
}
